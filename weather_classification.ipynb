{
 "cells": [
  {
   "cell_type": "code",
   "execution_count": 1,
   "metadata": {},
   "outputs": [
    {
     "data": {
      "text/plain": [
       "'weather.zip'"
      ]
     },
     "execution_count": 1,
     "metadata": {},
     "output_type": "execute_result"
    }
   ],
   "source": [
    "import wget\n",
    "import zipfile\n",
    "import pandas as pd # to get the dataframe\n",
    "import tensorflow as tf # for deep learning\n",
    "import matplotlib.pyplot as plt\n",
    "import seaborn as sns\n",
    "import numpy as np # for numerical operations\n",
    "import cv2 # to read or show the image\n",
    "from sklearn.metrics import accuracy_score # to score our model\n",
    "from sklearn.preprocessing import LabelEncoder\n",
    "from keras.preprocessing.image import ImageDataGenerator, img_to_array # helpful in getting images\n",
    "from tensorflow.keras.applications import vgg19 # get the model for image classifier\n",
    "import joblib\n",
    "import os\n",
    "import matplotlib.pyplot as plt\n",
    "link ='https://dphi-live.s3.eu-west-1.amazonaws.com/dataset/weather.zip' # get the zip file\n",
    "wget.download(link)"
   ]
  },
  {
   "cell_type": "code",
   "execution_count": 2,
   "metadata": {},
   "outputs": [],
   "source": [
    "with zipfile.ZipFile('./weather.zip', 'r') as zip_ref: # extract the files\n",
    "    zip_ref.extractall('.')"
   ]
  },
  {
   "cell_type": "code",
   "execution_count": 3,
   "metadata": {},
   "outputs": [
    {
     "data": {
      "text/html": [
       "<div>\n",
       "<style scoped>\n",
       "    .dataframe tbody tr th:only-of-type {\n",
       "        vertical-align: middle;\n",
       "    }\n",
       "\n",
       "    .dataframe tbody tr th {\n",
       "        vertical-align: top;\n",
       "    }\n",
       "\n",
       "    .dataframe thead th {\n",
       "        text-align: right;\n",
       "    }\n",
       "</style>\n",
       "<table border=\"1\" class=\"dataframe\">\n",
       "  <thead>\n",
       "    <tr style=\"text-align: right;\">\n",
       "      <th></th>\n",
       "      <th>filename</th>\n",
       "      <th>label</th>\n",
       "    </tr>\n",
       "  </thead>\n",
       "  <tbody>\n",
       "    <tr>\n",
       "      <th>778</th>\n",
       "      <td>Image_779.jpg</td>\n",
       "      <td>cloudy</td>\n",
       "    </tr>\n",
       "    <tr>\n",
       "      <th>671</th>\n",
       "      <td>Image_672.jpg</td>\n",
       "      <td>shine</td>\n",
       "    </tr>\n",
       "    <tr>\n",
       "      <th>781</th>\n",
       "      <td>Image_782.jpg</td>\n",
       "      <td>cloudy</td>\n",
       "    </tr>\n",
       "    <tr>\n",
       "      <th>65</th>\n",
       "      <td>Image_66.jpg</td>\n",
       "      <td>shine</td>\n",
       "    </tr>\n",
       "    <tr>\n",
       "      <th>791</th>\n",
       "      <td>Image_792.jpg</td>\n",
       "      <td>foggy</td>\n",
       "    </tr>\n",
       "    <tr>\n",
       "      <th>51</th>\n",
       "      <td>Image_52.jpg</td>\n",
       "      <td>foggy</td>\n",
       "    </tr>\n",
       "    <tr>\n",
       "      <th>795</th>\n",
       "      <td>Image_796.jpg</td>\n",
       "      <td>cloudy</td>\n",
       "    </tr>\n",
       "  </tbody>\n",
       "</table>\n",
       "</div>"
      ],
      "text/plain": [
       "          filename   label\n",
       "778  Image_779.jpg  cloudy\n",
       "671  Image_672.jpg   shine\n",
       "781  Image_782.jpg  cloudy\n",
       "65    Image_66.jpg   shine\n",
       "791  Image_792.jpg   foggy\n",
       "51    Image_52.jpg   foggy\n",
       "795  Image_796.jpg  cloudy"
      ]
     },
     "execution_count": 3,
     "metadata": {},
     "output_type": "execute_result"
    }
   ],
   "source": [
    "train_data = pd.read_csv('Training_set.csv') # read the training data\n",
    "train_data.sample(7)"
   ]
  },
  {
   "cell_type": "code",
   "execution_count": 4,
   "metadata": {},
   "outputs": [
    {
     "name": "stdout",
     "output_type": "stream",
     "text": [
      "<class 'pandas.core.frame.DataFrame'>\n",
      "RangeIndex: 1048 entries, 0 to 1047\n",
      "Data columns (total 2 columns):\n",
      " #   Column    Non-Null Count  Dtype \n",
      "---  ------    --------------  ----- \n",
      " 0   filename  1048 non-null   object\n",
      " 1   label     1048 non-null   object\n",
      "dtypes: object(2)\n",
      "memory usage: 16.5+ KB\n"
     ]
    }
   ],
   "source": [
    "train_data.info() # no null data"
   ]
  },
  {
   "cell_type": "code",
   "execution_count": 5,
   "metadata": {},
   "outputs": [
    {
     "data": {
      "image/png": "[encoded data removed]",
      "text/plain": [
       "<Figure size 640x480 with 1 Axes>"
      ]
     },
     "metadata": {},
     "output_type": "display_data"
    }
   ],
   "source": [
    "fig_data = np.round(train_data.label.value_counts(normalize=True),4) # get an idea of spread of values\n",
    "plt.pie(x=fig_data.values, labels=fig_data.index, autopct='%.f%%')\n",
    "plt.show()"
   ]
  },
  {
   "cell_type": "code",
   "execution_count": 4,
   "metadata": {},
   "outputs": [
    {
     "data": {
      "text/html": [
       "<div>\n",
       "<style scoped>\n",
       "    .dataframe tbody tr th:only-of-type {\n",
       "        vertical-align: middle;\n",
       "    }\n",
       "\n",
       "    .dataframe tbody tr th {\n",
       "        vertical-align: top;\n",
       "    }\n",
       "\n",
       "    .dataframe thead th {\n",
       "        text-align: right;\n",
       "    }\n",
       "</style>\n",
       "<table border=\"1\" class=\"dataframe\">\n",
       "  <thead>\n",
       "    <tr style=\"text-align: right;\">\n",
       "      <th></th>\n",
       "      <th>filename</th>\n",
       "      <th>filepaths</th>\n",
       "      <th>label</th>\n",
       "    </tr>\n",
       "  </thead>\n",
       "  <tbody>\n",
       "    <tr>\n",
       "      <th>215</th>\n",
       "      <td>Image_216.jpg</td>\n",
       "      <td>./train/Image_216.jpg</td>\n",
       "      <td>rainy</td>\n",
       "    </tr>\n",
       "    <tr>\n",
       "      <th>977</th>\n",
       "      <td>Image_978.jpg</td>\n",
       "      <td>./train/Image_978.jpg</td>\n",
       "      <td>rainy</td>\n",
       "    </tr>\n",
       "    <tr>\n",
       "      <th>298</th>\n",
       "      <td>Image_299.jpg</td>\n",
       "      <td>./train/Image_299.jpg</td>\n",
       "      <td>rainy</td>\n",
       "    </tr>\n",
       "    <tr>\n",
       "      <th>535</th>\n",
       "      <td>Image_536.jpg</td>\n",
       "      <td>./train/Image_536.jpg</td>\n",
       "      <td>foggy</td>\n",
       "    </tr>\n",
       "    <tr>\n",
       "      <th>455</th>\n",
       "      <td>Image_456.jpg</td>\n",
       "      <td>./train/Image_456.jpg</td>\n",
       "      <td>cloudy</td>\n",
       "    </tr>\n",
       "    <tr>\n",
       "      <th>968</th>\n",
       "      <td>Image_969.jpg</td>\n",
       "      <td>./train/Image_969.jpg</td>\n",
       "      <td>shine</td>\n",
       "    </tr>\n",
       "    <tr>\n",
       "      <th>382</th>\n",
       "      <td>Image_383.jpg</td>\n",
       "      <td>./train/Image_383.jpg</td>\n",
       "      <td>foggy</td>\n",
       "    </tr>\n",
       "  </tbody>\n",
       "</table>\n",
       "</div>"
      ],
      "text/plain": [
       "          filename              filepaths   label\n",
       "215  Image_216.jpg  ./train/Image_216.jpg   rainy\n",
       "977  Image_978.jpg  ./train/Image_978.jpg   rainy\n",
       "298  Image_299.jpg  ./train/Image_299.jpg   rainy\n",
       "535  Image_536.jpg  ./train/Image_536.jpg   foggy\n",
       "455  Image_456.jpg  ./train/Image_456.jpg  cloudy\n",
       "968  Image_969.jpg  ./train/Image_969.jpg   shine\n",
       "382  Image_383.jpg  ./train/Image_383.jpg   foggy"
      ]
     },
     "execution_count": 4,
     "metadata": {},
     "output_type": "execute_result"
    }
   ],
   "source": [
    "file_paths = [[fname, './train/' + fname] for fname in train_data.filename] # get the paths\n",
    "images = pd.DataFrame(file_paths, columns=['filename', 'filepaths'])\n",
    "train_data = pd.merge(images, train_data, on = 'filename')\n",
    "train_data.sample(7)"
   ]
  },
  {
   "cell_type": "code",
   "execution_count": 5,
   "metadata": {},
   "outputs": [],
   "source": [
    "data_train = []\n",
    "for i in range(len(train_data)): # get the actual images\n",
    "  img_array = cv2.imread(train_data['filepaths'][i])\n",
    "  new_img_array = cv2.resize(img_array, (150, 150)) # resize them for the sake of consistency\n",
    "  data_train.append(img_to_array(new_img_array)) # append them\n",
    "# print(data_train[0].shape) # it is list for now\n",
    "data_train_arr = np.stack(data_train)/255 # make it an array and scale it\n",
    "# print(data_train_arr.shape)\n",
    "y = train_data['label']\n",
    "lb = LabelEncoder()\n",
    "lb.fit(y)\n",
    "label_train = lb.transform(y) # get the labels\n",
    "# print(label_train)"
   ]
  },
  {
   "cell_type": "code",
   "execution_count": 8,
   "metadata": {},
   "outputs": [
    {
     "name": "stdout",
     "output_type": "stream",
     "text": [
      "Model: \"sequential\"\n",
      "_________________________________________________________________\n",
      " Layer (type)                Output Shape              Param #   \n",
      "=================================================================\n",
      " vgg19 (Functional)          (None, 4, 4, 512)         20024384  \n",
      "                                                                 \n",
      " flatten (Flatten)           (None, 8192)              0         \n",
      "                                                                 \n",
      " dense (Dense)               (None, 256)               2097408   \n",
      "                                                                 \n",
      " dropout (Dropout)           (None, 256)               0         \n",
      "                                                                 \n",
      " dense_1 (Dense)             (None, 256)               65792     \n",
      "                                                                 \n",
      " dropout_1 (Dropout)         (None, 256)               0         \n",
      "                                                                 \n",
      " dense_2 (Dense)             (None, 5)                 1285      \n",
      "                                                                 \n",
      "=================================================================\n",
      "Total params: 22188869 (84.64 MB)\n",
      "Trainable params: 22188869 (84.64 MB)\n",
      "Non-trainable params: 0 (0.00 Byte)\n",
      "_________________________________________________________________\n"
     ]
    }
   ],
   "source": [
    "INPUT_SHAPE = (150, 150, 3) # define the input size\n",
    "\n",
    "vgg_layers = vgg19.VGG19(weights='imagenet', include_top=False,\n",
    "input_shape=INPUT_SHAPE)\n",
    "for layer in vgg_layers.layers:\n",
    "  layer.trainable = True\n",
    "# define sequential model\n",
    "model = tf.keras.models.Sequential()\n",
    "model.add(vgg_layers) # add the vgg19 layer\n",
    "model.add(tf.keras.layers.Flatten())\n",
    "model.add(tf.keras.layers.Dense(256, activation='relu'))\n",
    "model.add(tf.keras.layers.Dropout(rate=0.3))\n",
    "model.add(tf.keras.layers.Dense(256, activation='relu'))\n",
    "model.add(tf.keras.layers.Dropout(rate=0.3))\n",
    "model.add(tf.keras.layers.Dense(5, activation='softmax'))\n",
    "# compilation\n",
    "model.compile(optimizer=tf.keras.optimizers.Adam(learning_rate=2e-5),\n",
    "loss='sparse_categorical_crossentropy', metrics=['accuracy'])\n",
    "model.summary()"
   ]
  },
  {
   "cell_type": "code",
   "execution_count": 9,
   "metadata": {},
   "outputs": [
    {
     "name": "stdout",
     "output_type": "stream",
     "text": [
      "Epoch 1/50\n",
      "23/23 [==============================] - 843s 36s/step - loss: 1.4877 - accuracy: 0.3520 - val_loss: 1.0344 - val_accuracy: 0.7746\n",
      "Epoch 2/50\n",
      "23/23 [==============================] - 837s 37s/step - loss: 0.7933 - accuracy: 0.7217 - val_loss: 0.4448 - val_accuracy: 0.8286\n",
      "Epoch 3/50\n",
      "23/23 [==============================] - 829s 36s/step - loss: 0.4172 - accuracy: 0.8513 - val_loss: 0.2492 - val_accuracy: 0.9111\n",
      "Epoch 4/50\n",
      "23/23 [==============================] - 840s 37s/step - loss: 0.2996 - accuracy: 0.8922 - val_loss: 0.2341 - val_accuracy: 0.9111\n",
      "Epoch 5/50\n",
      "23/23 [==============================] - 919s 40s/step - loss: 0.1915 - accuracy: 0.9304 - val_loss: 0.2980 - val_accuracy: 0.8762\n",
      "Epoch 6/50\n",
      "23/23 [==============================] - 869s 38s/step - loss: 0.1272 - accuracy: 0.9604 - val_loss: 0.2227 - val_accuracy: 0.9333\n",
      "Epoch 7/50\n",
      "23/23 [==============================] - 931s 40s/step - loss: 0.1064 - accuracy: 0.9686 - val_loss: 0.2051 - val_accuracy: 0.9333\n",
      "Epoch 8/50\n",
      "23/23 [==============================] - 905s 40s/step - loss: 0.0802 - accuracy: 0.9714 - val_loss: 0.2219 - val_accuracy: 0.9016\n",
      "Epoch 9/50\n",
      "23/23 [==============================] - 921s 40s/step - loss: 0.0484 - accuracy: 0.9823 - val_loss: 0.2122 - val_accuracy: 0.9270\n",
      "Epoch 10/50\n",
      "23/23 [==============================] - 919s 40s/step - loss: 0.0461 - accuracy: 0.9891 - val_loss: 0.2201 - val_accuracy: 0.9333\n",
      "Epoch 11/50\n",
      "23/23 [==============================] - 960s 42s/step - loss: 0.0202 - accuracy: 0.9932 - val_loss: 0.2344 - val_accuracy: 0.9302\n",
      "Epoch 12/50\n",
      "23/23 [==============================] - ETA: 0s - loss: 0.0399 - accuracy: 0.9905 Restoring model weights from the end of the best epoch: 7.\n",
      "23/23 [==============================] - 976s 43s/step - loss: 0.0399 - accuracy: 0.9905 - val_loss: 0.2143 - val_accuracy: 0.9460\n",
      "Epoch 12: early stopping\n"
     ]
    }
   ],
   "source": [
    "es_callback = tf.keras.callbacks.EarlyStopping(monitor='val_loss', patience=5,\n",
    "verbose=1, min_delta=0.01, restore_best_weights=True)\n",
    "\n",
    "history = model.fit(data_train_arr, label_train, batch_size=32,\n",
    "          callbacks=[es_callback], validation_split=0.3, epochs=50,\n",
    "          verbose=1)"
   ]
  },
  {
   "cell_type": "code",
   "execution_count": 10,
   "metadata": {},
   "outputs": [
    {
     "data": {
      "image/png": "[encoded data removed]",
      "text/plain": [
       "<Figure size 1000x400 with 2 Axes>"
      ]
     },
     "metadata": {},
     "output_type": "display_data"
    }
   ],
   "source": [
    "fig, ax = plt.subplots(1, 2, figsize=(10, 4), sharey=True)\n",
    "\n",
    "history_df = pd.DataFrame(history.history)\n",
    "history_df[['loss', 'val_loss']].plot(kind='line', ax=ax[0])\n",
    "history_df[['accuracy', 'val_accuracy']].plot(kind='line', ax=ax[1])\n",
    "plt.show()"
   ]
  },
  {
   "cell_type": "code",
   "execution_count": null,
   "metadata": {},
   "outputs": [],
   "source": [
    "# joblib.dump(model, 'weather_class_model.joblib', 9)\n",
    "joblib.dump(lb, 'weather_encoder_model.joblib', 9)\n",
    "# model.save('weather_class_model.keras', overwrite=True)\n",
    "os.remove('weather.zip')"
   ]
  }
 ],
 "metadata": {
  "kernelspec": {
   "display_name": "base",
   "language": "python",
   "name": "python3"
  },
  "language_info": {
   "codemirror_mode": {
    "name": "ipython",
    "version": 3
   },
   "file_extension": ".py",
   "mimetype": "text/x-python",
   "name": "python",
   "nbconvert_exporter": "python",
   "pygments_lexer": "ipython3",
   "version": "3.10.9"
  },
  "orig_nbformat": 4
 },
 "nbformat": 4,
 "nbformat_minor": 2
}
